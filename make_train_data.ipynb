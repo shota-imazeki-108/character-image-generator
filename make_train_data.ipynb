{
 "cells": [
  {
   "cell_type": "markdown",
   "metadata": {},
   "source": [
    "## フォントはこちらのを主に使用\n",
    "https://github.com/coz-m/MPLUS_FONTS/tree/master/fonts/ttf"
   ]
  },
  {
   "cell_type": "code",
   "execution_count": 120,
   "metadata": {},
   "outputs": [],
   "source": [
    "from pathlib import Path\n",
    "from PIL import Image, ImageFont, ImageDraw\n",
    "\n",
    "class Drawer:\n",
    "    def __init__(self, font_file):\n",
    "        # font以外は一旦決めうち\n",
    "        self.output_path = Path('./train')\n",
    "        self.font = ImageFont.truetype(font=font_file, size=random.randint(12, 23)) # 12〜22\n",
    "        self.background_color = (255, 255, 255)\n",
    "        self.position = (random.randint(0,6), random.randint(0, 6)) # (0, 6)〜(0, 6)\n",
    "        self.image_size = (28, 28)\n",
    "        self.font_color = (0, 0, 0)\n",
    "        \n",
    "    def draw(self, text, text_type, n):\n",
    "        im = Image.new(mode='RGB', size=self.image_size, color=self.background_color)\n",
    "        im.convert(\"L\")\n",
    "        draw = ImageDraw.Draw(im)\n",
    "        draw.text(xy=self.position, text=text, font=self.font, fill=self.font_color)\n",
    "\n",
    "        file = self.output_path.joinpath(f'{n}_{text_type}.png')\n",
    "        im.convert(\"L\").save(file)"
   ]
  },
  {
   "cell_type": "code",
   "execution_count": 121,
   "metadata": {},
   "outputs": [],
   "source": [
    "fonts = os.listdir(path='./font')\n",
    "for n, font in enumerate(fonts):\n",
    "    if os.path.splitext(font)[1] in ['.otf', '.ttc', '.ttf']:\n",
    "        Drawer(os.path.join('font', font)).draw('あ', 'hiragana', os.path.splitext(font)[0])"
   ]
  },
  {
   "cell_type": "code",
   "execution_count": 41,
   "metadata": {},
   "outputs": [
    {
     "name": "stdout",
     "output_type": "stream",
     "text": [
      "{'latinalphabet': ['A', 'B', 'C', 'D', 'E', 'F', 'G', 'H', 'I', 'J', 'K', 'L', 'M', 'N', 'O', 'P', 'Q', 'R', 'S', 'T', 'U', 'V', 'W', 'X', 'Y', 'Z', 'a', 'b', 'c', 'd', 'e', 'f', 'g', 'h', 'i', 'j', 'k', 'l', 'm', 'n', 'o', 'p', 'q', 'r', 's', 't', 'u', 'v', 'w', 'x', 'y', 'z'], 'hiragana': ['ぁ', 'あ', 'ぃ', 'い', 'ぅ', 'う', 'ぇ', 'え', 'ぉ', 'お', 'か', 'が', 'き', 'ぎ', 'く', 'ぐ', 'け', 'げ', 'こ', 'ご', 'さ', 'ざ', 'し', 'じ', 'す', 'ず', 'せ', 'ぜ', 'そ', 'ぞ', 'た', 'だ', 'ち', 'ぢ', 'っ', 'つ', 'づ', 'て', 'で', 'と', 'ど', 'な', 'に', 'ぬ', 'ね', 'の', 'は', 'ば', 'ぱ', 'ひ', 'び', 'ぴ', 'ふ', 'ぶ', 'ぷ', 'へ', 'べ', 'ぺ', 'ほ', 'ぼ', 'ぽ', 'ま', 'み', 'む', 'め', 'も', 'ゃ', 'や', 'ゅ', 'ゆ', 'ょ', 'よ', 'ら', 'り', 'る', 'れ', 'ろ', 'ゎ', 'わ', 'ゐ', 'ゑ', 'を', 'ん'], 'katakana': ['ァ', 'ア', 'ィ', 'イ', 'ゥ', 'ウ', 'ェ', 'エ', 'ォ', 'オ', 'カ', 'ガ', 'キ', 'ギ', 'ク', 'グ', 'ケ', 'ゲ', 'コ', 'ゴ', 'サ', 'ザ', 'シ', 'ジ', 'ス', 'ズ', 'セ', 'ゼ', 'ソ', 'ゾ', 'タ', 'ダ', 'チ', 'ヂ', 'ッ', 'ツ', 'ヅ', 'テ', 'デ', 'ト', 'ド', 'ナ', 'ニ', 'ヌ', 'ネ', 'ノ', 'ハ', 'バ', 'パ', 'ヒ', 'ビ', 'ピ', 'フ', 'ブ', 'プ', 'ヘ', 'ベ', 'ペ', 'ホ', 'ボ', 'ポ', 'マ', 'ミ', 'ム', 'メ', 'モ', 'ャ', 'ヤ', 'ュ', 'ユ', 'ョ', 'ヨ', 'ラ', 'リ', 'ル', 'レ', 'ロ', 'ヮ', 'ワ', 'ヰ', 'ヱ', 'ヲ', 'ン', 'ヴ']}\n"
     ]
    }
   ],
   "source": [
    "letter_dict = {\n",
    "    'latinalphabet': [chr(i) for i in range(65, 65+26)] + [chr(i) for i in range(97, 97+26)],\n",
    "    'hiragana': [chr(i) for i in range(12353, 12436)],\n",
    "    'katakana': [chr(i) for i in range(12449, 12532+1)]\n",
    "}\n",
    "print(letter_dict)"
   ]
  },
  {
   "cell_type": "code",
   "execution_count": 122,
   "metadata": {},
   "outputs": [
    {
     "name": "stdout",
     "output_type": "stream",
     "text": [
      "52\n",
      "83\n",
      "84\n"
     ]
    }
   ],
   "source": [
    "for k in letter_dict:\n",
    "    print(len(letter_dict[k]))"
   ]
  },
  {
   "cell_type": "code",
   "execution_count": 126,
   "metadata": {},
   "outputs": [
    {
     "data": {
      "text/plain": [
       "['AppleSDGothicNeo.ttc', 'Hiragino Sans GB.ttc', 'AquaKana.ttc']"
      ]
     },
     "execution_count": 126,
     "metadata": {},
     "output_type": "execute_result"
    }
   ],
   "source": [
    "[font for font in os.listdir(path='./font') if os.path.splitext(font)[1] in ['.otf', '.ttc', '.ttf']]"
   ]
  },
  {
   "cell_type": "code",
   "execution_count": 127,
   "metadata": {},
   "outputs": [
    {
     "name": "stdout",
     "output_type": "stream",
     "text": [
      "0\n",
      "1\n",
      "2\n",
      "3\n",
      "4\n",
      "5\n",
      "6\n",
      "7\n"
     ]
    }
   ],
   "source": [
    "fonts = [font for font in os.listdir(path='./font') if os.path.splitext(font)[1] in ['.otf', '.ttc', '.ttf']]\n",
    "cnt = 0\n",
    "\n",
    "for _ in range(8):\n",
    "    print(_)\n",
    "    for k in letter_dict:\n",
    "        for char in letter_dict[k]:\n",
    "            for font in fonts:\n",
    "                Drawer(os.path.join('./font', font)).draw(char, k, cnt)\n",
    "                cnt += 1"
   ]
  },
  {
   "cell_type": "code",
   "execution_count": null,
   "metadata": {},
   "outputs": [],
   "source": []
  }
 ],
 "metadata": {
  "kernelspec": {
   "display_name": "Python 3",
   "language": "python",
   "name": "python3"
  },
  "language_info": {
   "codemirror_mode": {
    "name": "ipython",
    "version": 3
   },
   "file_extension": ".py",
   "mimetype": "text/x-python",
   "name": "python",
   "nbconvert_exporter": "python",
   "pygments_lexer": "ipython3",
   "version": "3.8.3"
  }
 },
 "nbformat": 4,
 "nbformat_minor": 2
}
